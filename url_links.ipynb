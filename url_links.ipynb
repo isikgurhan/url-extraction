{
 "cells": [
  {
   "cell_type": "code",
   "execution_count": 18,
   "metadata": {},
   "outputs": [],
   "source": [
    "import pandas as pd\n",
    "import numpy as np"
   ]
  },
  {
   "cell_type": "code",
   "execution_count": 74,
   "metadata": {},
   "outputs": [],
   "source": [
    "df=pd.read_excel('urldata.xlsx')"
   ]
  },
  {
   "cell_type": "code",
   "execution_count": 75,
   "metadata": {},
   "outputs": [
    {
     "data": {
      "text/html": [
       "<div>\n",
       "<style scoped>\n",
       "    .dataframe tbody tr th:only-of-type {\n",
       "        vertical-align: middle;\n",
       "    }\n",
       "\n",
       "    .dataframe tbody tr th {\n",
       "        vertical-align: top;\n",
       "    }\n",
       "\n",
       "    .dataframe thead th {\n",
       "        text-align: right;\n",
       "    }\n",
       "</style>\n",
       "<table border=\"1\" class=\"dataframe\">\n",
       "  <thead>\n",
       "    <tr style=\"text-align: right;\">\n",
       "      <th></th>\n",
       "      <th>Device_Type</th>\n",
       "      <th>Stats_Access_Link</th>\n",
       "    </tr>\n",
       "  </thead>\n",
       "  <tbody>\n",
       "    <tr>\n",
       "      <th>0</th>\n",
       "      <td>AxXO145</td>\n",
       "      <td>&lt;url&gt;http:// xcd32112.smart_meter.com&lt;/url&gt;</td>\n",
       "    </tr>\n",
       "    <tr>\n",
       "      <th>1</th>\n",
       "      <td>TRU151</td>\n",
       "      <td>&lt;url&gt;http://tXh67.dia_meter.com&lt;/url&gt;</td>\n",
       "    </tr>\n",
       "    <tr>\n",
       "      <th>2</th>\n",
       "      <td>ZOD231</td>\n",
       "      <td>&lt;url&gt;http://yT5495.smart_meter.com&lt;/url&gt;</td>\n",
       "    </tr>\n",
       "    <tr>\n",
       "      <th>3</th>\n",
       "      <td>YRT326</td>\n",
       "      <td>&lt;url&gt;http://ret323_Tru.crown.com&lt;/url&gt;</td>\n",
       "    </tr>\n",
       "    <tr>\n",
       "      <th>4</th>\n",
       "      <td>LWE245</td>\n",
       "      <td>&lt;url&gt;http://luwr3243.celcius.com&lt;/url&gt;</td>\n",
       "    </tr>\n",
       "  </tbody>\n",
       "</table>\n",
       "</div>"
      ],
      "text/plain": [
       "  Device_Type                            Stats_Access_Link\n",
       "0     AxXO145  <url>http:// xcd32112.smart_meter.com</url>\n",
       "1      TRU151        <url>http://tXh67.dia_meter.com</url>\n",
       "2      ZOD231     <url>http://yT5495.smart_meter.com</url>\n",
       "3      YRT326       <url>http://ret323_Tru.crown.com</url>\n",
       "4      LWE245       <url>http://luwr3243.celcius.com</url>"
      ]
     },
     "execution_count": 75,
     "metadata": {},
     "output_type": "execute_result"
    }
   ],
   "source": [
    "df"
   ]
  },
  {
   "cell_type": "code",
   "execution_count": null,
   "metadata": {},
   "outputs": [],
   "source": []
  },
  {
   "cell_type": "code",
   "execution_count": 76,
   "metadata": {},
   "outputs": [
    {
     "data": {
      "text/html": [
       "<div>\n",
       "<style scoped>\n",
       "    .dataframe tbody tr th:only-of-type {\n",
       "        vertical-align: middle;\n",
       "    }\n",
       "\n",
       "    .dataframe tbody tr th {\n",
       "        vertical-align: top;\n",
       "    }\n",
       "\n",
       "    .dataframe thead th {\n",
       "        text-align: right;\n",
       "    }\n",
       "</style>\n",
       "<table border=\"1\" class=\"dataframe\">\n",
       "  <thead>\n",
       "    <tr style=\"text-align: right;\">\n",
       "      <th></th>\n",
       "      <th>Device_Type</th>\n",
       "      <th>Stats_Access_Link</th>\n",
       "    </tr>\n",
       "  </thead>\n",
       "  <tbody>\n",
       "    <tr>\n",
       "      <th>0</th>\n",
       "      <td>AxXO145</td>\n",
       "      <td>&lt;url&gt;http:// xcd32112.smart_meter.com&lt;/url&gt;</td>\n",
       "    </tr>\n",
       "    <tr>\n",
       "      <th>1</th>\n",
       "      <td>TRU151</td>\n",
       "      <td>&lt;url&gt;http://tXh67.dia_meter.com&lt;/url&gt;</td>\n",
       "    </tr>\n",
       "    <tr>\n",
       "      <th>2</th>\n",
       "      <td>ZOD231</td>\n",
       "      <td>&lt;url&gt;http://yT5495.smart_meter.com&lt;/url&gt;</td>\n",
       "    </tr>\n",
       "    <tr>\n",
       "      <th>3</th>\n",
       "      <td>YRT326</td>\n",
       "      <td>&lt;url&gt;http://ret323_Tru.crown.com&lt;/url&gt;</td>\n",
       "    </tr>\n",
       "    <tr>\n",
       "      <th>4</th>\n",
       "      <td>LWE245</td>\n",
       "      <td>&lt;url&gt;http://luwr3243.celcius.com&lt;/url&gt;</td>\n",
       "    </tr>\n",
       "  </tbody>\n",
       "</table>\n",
       "</div>"
      ],
      "text/plain": [
       "  Device_Type                            Stats_Access_Link\n",
       "0     AxXO145  <url>http:// xcd32112.smart_meter.com</url>\n",
       "1      TRU151        <url>http://tXh67.dia_meter.com</url>\n",
       "2      ZOD231     <url>http://yT5495.smart_meter.com</url>\n",
       "3      YRT326       <url>http://ret323_Tru.crown.com</url>\n",
       "4      LWE245       <url>http://luwr3243.celcius.com</url>"
      ]
     },
     "execution_count": 76,
     "metadata": {},
     "output_type": "execute_result"
    }
   ],
   "source": [
    "df"
   ]
  },
  {
   "cell_type": "code",
   "execution_count": 77,
   "metadata": {},
   "outputs": [],
   "source": [
    "link1=df['Stats_Access_Link'].apply(lambda link: link.split('/')[2])"
   ]
  },
  {
   "cell_type": "code",
   "execution_count": 78,
   "metadata": {},
   "outputs": [],
   "source": [
    "df['link1']=link1"
   ]
  },
  {
   "cell_type": "code",
   "execution_count": 79,
   "metadata": {},
   "outputs": [
    {
     "data": {
      "text/html": [
       "<div>\n",
       "<style scoped>\n",
       "    .dataframe tbody tr th:only-of-type {\n",
       "        vertical-align: middle;\n",
       "    }\n",
       "\n",
       "    .dataframe tbody tr th {\n",
       "        vertical-align: top;\n",
       "    }\n",
       "\n",
       "    .dataframe thead th {\n",
       "        text-align: right;\n",
       "    }\n",
       "</style>\n",
       "<table border=\"1\" class=\"dataframe\">\n",
       "  <thead>\n",
       "    <tr style=\"text-align: right;\">\n",
       "      <th></th>\n",
       "      <th>Device_Type</th>\n",
       "      <th>Stats_Access_Link</th>\n",
       "      <th>link1</th>\n",
       "    </tr>\n",
       "  </thead>\n",
       "  <tbody>\n",
       "    <tr>\n",
       "      <th>0</th>\n",
       "      <td>AxXO145</td>\n",
       "      <td>&lt;url&gt;http:// xcd32112.smart_meter.com&lt;/url&gt;</td>\n",
       "      <td>xcd32112.smart_meter.com&lt;</td>\n",
       "    </tr>\n",
       "    <tr>\n",
       "      <th>1</th>\n",
       "      <td>TRU151</td>\n",
       "      <td>&lt;url&gt;http://tXh67.dia_meter.com&lt;/url&gt;</td>\n",
       "      <td>tXh67.dia_meter.com&lt;</td>\n",
       "    </tr>\n",
       "    <tr>\n",
       "      <th>2</th>\n",
       "      <td>ZOD231</td>\n",
       "      <td>&lt;url&gt;http://yT5495.smart_meter.com&lt;/url&gt;</td>\n",
       "      <td>yT5495.smart_meter.com&lt;</td>\n",
       "    </tr>\n",
       "    <tr>\n",
       "      <th>3</th>\n",
       "      <td>YRT326</td>\n",
       "      <td>&lt;url&gt;http://ret323_Tru.crown.com&lt;/url&gt;</td>\n",
       "      <td>ret323_Tru.crown.com&lt;</td>\n",
       "    </tr>\n",
       "    <tr>\n",
       "      <th>4</th>\n",
       "      <td>LWE245</td>\n",
       "      <td>&lt;url&gt;http://luwr3243.celcius.com&lt;/url&gt;</td>\n",
       "      <td>luwr3243.celcius.com&lt;</td>\n",
       "    </tr>\n",
       "  </tbody>\n",
       "</table>\n",
       "</div>"
      ],
      "text/plain": [
       "  Device_Type                            Stats_Access_Link  \\\n",
       "0     AxXO145  <url>http:// xcd32112.smart_meter.com</url>   \n",
       "1      TRU151        <url>http://tXh67.dia_meter.com</url>   \n",
       "2      ZOD231     <url>http://yT5495.smart_meter.com</url>   \n",
       "3      YRT326       <url>http://ret323_Tru.crown.com</url>   \n",
       "4      LWE245       <url>http://luwr3243.celcius.com</url>   \n",
       "\n",
       "                        link1  \n",
       "0   xcd32112.smart_meter.com<  \n",
       "1        tXh67.dia_meter.com<  \n",
       "2     yT5495.smart_meter.com<  \n",
       "3       ret323_Tru.crown.com<  \n",
       "4       luwr3243.celcius.com<  "
      ]
     },
     "execution_count": 79,
     "metadata": {},
     "output_type": "execute_result"
    }
   ],
   "source": [
    "df"
   ]
  },
  {
   "cell_type": "code",
   "execution_count": 80,
   "metadata": {},
   "outputs": [],
   "source": [
    "link=df['link1'].apply(lambda link: link.split('<')[0])"
   ]
  },
  {
   "cell_type": "code",
   "execution_count": 81,
   "metadata": {},
   "outputs": [],
   "source": [
    "df['link']=link"
   ]
  },
  {
   "cell_type": "code",
   "execution_count": 82,
   "metadata": {},
   "outputs": [
    {
     "data": {
      "text/html": [
       "<div>\n",
       "<style scoped>\n",
       "    .dataframe tbody tr th:only-of-type {\n",
       "        vertical-align: middle;\n",
       "    }\n",
       "\n",
       "    .dataframe tbody tr th {\n",
       "        vertical-align: top;\n",
       "    }\n",
       "\n",
       "    .dataframe thead th {\n",
       "        text-align: right;\n",
       "    }\n",
       "</style>\n",
       "<table border=\"1\" class=\"dataframe\">\n",
       "  <thead>\n",
       "    <tr style=\"text-align: right;\">\n",
       "      <th></th>\n",
       "      <th>Device_Type</th>\n",
       "      <th>Stats_Access_Link</th>\n",
       "      <th>link1</th>\n",
       "      <th>link</th>\n",
       "    </tr>\n",
       "  </thead>\n",
       "  <tbody>\n",
       "    <tr>\n",
       "      <th>0</th>\n",
       "      <td>AxXO145</td>\n",
       "      <td>&lt;url&gt;http:// xcd32112.smart_meter.com&lt;/url&gt;</td>\n",
       "      <td>xcd32112.smart_meter.com&lt;</td>\n",
       "      <td>xcd32112.smart_meter.com</td>\n",
       "    </tr>\n",
       "    <tr>\n",
       "      <th>1</th>\n",
       "      <td>TRU151</td>\n",
       "      <td>&lt;url&gt;http://tXh67.dia_meter.com&lt;/url&gt;</td>\n",
       "      <td>tXh67.dia_meter.com&lt;</td>\n",
       "      <td>tXh67.dia_meter.com</td>\n",
       "    </tr>\n",
       "    <tr>\n",
       "      <th>2</th>\n",
       "      <td>ZOD231</td>\n",
       "      <td>&lt;url&gt;http://yT5495.smart_meter.com&lt;/url&gt;</td>\n",
       "      <td>yT5495.smart_meter.com&lt;</td>\n",
       "      <td>yT5495.smart_meter.com</td>\n",
       "    </tr>\n",
       "    <tr>\n",
       "      <th>3</th>\n",
       "      <td>YRT326</td>\n",
       "      <td>&lt;url&gt;http://ret323_Tru.crown.com&lt;/url&gt;</td>\n",
       "      <td>ret323_Tru.crown.com&lt;</td>\n",
       "      <td>ret323_Tru.crown.com</td>\n",
       "    </tr>\n",
       "    <tr>\n",
       "      <th>4</th>\n",
       "      <td>LWE245</td>\n",
       "      <td>&lt;url&gt;http://luwr3243.celcius.com&lt;/url&gt;</td>\n",
       "      <td>luwr3243.celcius.com&lt;</td>\n",
       "      <td>luwr3243.celcius.com</td>\n",
       "    </tr>\n",
       "  </tbody>\n",
       "</table>\n",
       "</div>"
      ],
      "text/plain": [
       "  Device_Type                            Stats_Access_Link  \\\n",
       "0     AxXO145  <url>http:// xcd32112.smart_meter.com</url>   \n",
       "1      TRU151        <url>http://tXh67.dia_meter.com</url>   \n",
       "2      ZOD231     <url>http://yT5495.smart_meter.com</url>   \n",
       "3      YRT326       <url>http://ret323_Tru.crown.com</url>   \n",
       "4      LWE245       <url>http://luwr3243.celcius.com</url>   \n",
       "\n",
       "                        link1                       link  \n",
       "0   xcd32112.smart_meter.com<   xcd32112.smart_meter.com  \n",
       "1        tXh67.dia_meter.com<        tXh67.dia_meter.com  \n",
       "2     yT5495.smart_meter.com<     yT5495.smart_meter.com  \n",
       "3       ret323_Tru.crown.com<       ret323_Tru.crown.com  \n",
       "4       luwr3243.celcius.com<       luwr3243.celcius.com  "
      ]
     },
     "execution_count": 82,
     "metadata": {},
     "output_type": "execute_result"
    }
   ],
   "source": [
    "df"
   ]
  },
  {
   "cell_type": "code",
   "execution_count": null,
   "metadata": {},
   "outputs": [],
   "source": [
    "#if we want to remove first two columns we can do below\n",
    "df.drop(['link1'],axis=1,inplace=True)\n"
   ]
  }
 ],
 "metadata": {
  "kernelspec": {
   "display_name": "Python 3",
   "language": "python",
   "name": "python3"
  },
  "language_info": {
   "codemirror_mode": {
    "name": "ipython",
    "version": 3
   },
   "file_extension": ".py",
   "mimetype": "text/x-python",
   "name": "python",
   "nbconvert_exporter": "python",
   "pygments_lexer": "ipython3",
   "version": "3.8.3"
  }
 },
 "nbformat": 4,
 "nbformat_minor": 4
}
